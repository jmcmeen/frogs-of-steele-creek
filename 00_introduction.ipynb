{
 "cells": [
  {
   "cell_type": "markdown",
   "metadata": {},
   "source": [
    "# Introduction\n",
    "\n",
    "Welcome to The Frogs of Steele Creek Park Jupyter Notebook. Jupyter Notebooks are open-source web applications that allow users to create and share interactive documents which contain live code, equations, visualizations, and narrative text, making it an ideal tool for data science, scientific computing, and education. Code in this repository highlights on-going projects and research at Steele Creek Park in Bristol, TN.\n",
    "\n",
    "The examples found in this repository highlight STEM topics in biology, ecology, bioacoustics, computer science, and machine learning, but most importantly, frogs! \n",
    "\n",
    "## Contents\n",
    "- [0 - Steele Creek Park](00_introduction.ipynb)\n",
    "- [1 - Geocoding](01_geocoding.ipynb)\n",
    "- [2 - Species](02_species.ipynb)\n",
    "- [3 - Bioacoustics](03_bioacoustics.ipynb)\n",
    "- [4 - Machine Learning](04_machine_learning.ipynb)\n",
    "- [5 - Recent Studies](05_00_recent_studies.ipynb)\n",
    "- [6 - Related Projects](06_related_projects.ipynb)\n",
    "- [7 - Acknowledgements](07_acknowledgements.ipynb)"
   ]
  },
  {
   "cell_type": "markdown",
   "metadata": {},
   "source": [
    "## Colab Setup"
   ]
  },
  {
   "cell_type": "markdown",
   "metadata": {},
   "source": [
    "If you are running in Colab, install the requirements with this cell. If you have already installed the requirements via the terminal, you may skip this step."
   ]
  },
  {
   "cell_type": "code",
   "execution_count": null,
   "metadata": {},
   "outputs": [],
   "source": [
    "%pip install -r requirements.txt"
   ]
  },
  {
   "cell_type": "markdown",
   "metadata": {},
   "source": [
    "# Steele Creek Park\n",
    "\n",
    "While you are waiting on those Python libraries to install, you can learn a little more about the park!!\n",
    "\n",
    "Steele Creek Park is a beautiful outdoor space located in Bristol, Tennessee, spanning over 2,200 acres of scenic natural landscape. The park has a rich history that dates back to before 1936, when it was originally planned as a state park called Watauga. However, those ambitious state park plans were eventually abandoned in 1945.\n",
    "\n",
    "The park's modern story began in 1961 when Mayor Stacy Grayson announced plans to construct a municipal park at Steele Creek. The state approved a 99-year lease for the property, which was later deeded directly to the City of Bristol. After years of planning and development, Steele Creek Park finally opened its gates to the public on June 6, 1964.\n",
    "\n",
    "Today, the park offers visitors a diverse array of recreational opportunities. At its heart lies a beautiful 52-acre lake where visitors can rent paddleboats, enjoy kayaking and paddleboarding, or cast a line for fishing. Nature enthusiasts can explore 24 miles of hiking trails that wind through the park's picturesque scenery, while families can visit the Nature Center to learn about local wildlife and ecosystems.\n",
    "\n",
    "The park's developed recreational areas provide something for everyone, featuring playgrounds for children, picnic tables and shelters for gatherings, a refreshing splash pad for hot summer days, and a disc golf course for active recreation. Whether you're seeking outdoor adventure or peaceful relaxation, Steele Creek Park offers a perfect escape into nature.\n",
    "The park's main entrance is located at 4 Little Lane in Bristol, TN. For more information, you can contact the park at (423) 989-5616.\n",
    "\n",
    "![Steele Creek Park](data/images/scp.jpg \"View from the Nature Center at Steele Creek Park\")"
   ]
  }
 ],
 "metadata": {
  "kernelspec": {
   "display_name": ".venv",
   "language": "python",
   "name": "python3"
  },
  "language_info": {
   "codemirror_mode": {
    "name": "ipython",
    "version": 3
   },
   "file_extension": ".py",
   "mimetype": "text/x-python",
   "name": "python",
   "nbconvert_exporter": "python",
   "pygments_lexer": "ipython3",
   "version": "3.11.13"
  }
 },
 "nbformat": 4,
 "nbformat_minor": 2
}
