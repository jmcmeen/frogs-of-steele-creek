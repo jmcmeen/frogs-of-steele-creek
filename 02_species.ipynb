{
 "cells": [
  {
   "cell_type": "markdown",
   "metadata": {},
   "source": [
    "[Jessee, et al. 2023](https://bioone.org/journals/southeastern-naturalist/volume-21/issue-1/058.021.0110/Herpetofauna-of-Steele-Creek-Park-Sullivan-County-TN-with-Comments/10.1656/058.021.0110.short>) listed 10 frog species at Steele Creek Park. \n",
    "\n",
    "|Scientific Name|Common Name|\n",
    "|---|---|\n",
    "|Anaxyrus americanus|American Toad|\n",
    "|Anaxyrus fowleri|Fowler's Toad|\n",
    "|Dryophytes chrysoscelis|Cope's Gray Treefrog|\n",
    "|Lithobates catesbeianus|American Bullfrog|\n",
    "|Lithobates clamitans|Green Frog|\n",
    "|Lithobates palustris|Pickerel Frog|\n",
    "|Lithobates sphenocephalus|Southern Leopard Frog|\n",
    "|Lithobates sylvaticus|Wood Frog|\n",
    "|Pseudacris crucifer|Spring Peeper|\n",
    "|Pseudacris feriarum|Upland Chorus Frog|"
   ]
  },
  {
   "cell_type": "code",
   "execution_count": null,
   "metadata": {},
   "outputs": [],
   "source": []
  }
 ],
 "metadata": {
  "kernelspec": {
   "display_name": "Python 3",
   "language": "python",
   "name": "python3"
  },
  "language_info": {
   "codemirror_mode": {
    "name": "ipython",
    "version": 3
   },
   "file_extension": ".py",
   "mimetype": "text/x-python",
   "name": "python",
   "nbconvert_exporter": "python",
   "pygments_lexer": "ipython3",
   "version": "3.11.7"
  }
 },
 "nbformat": 4,
 "nbformat_minor": 2
}
