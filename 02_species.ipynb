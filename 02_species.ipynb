{
 "cells": [
  {
   "cell_type": "markdown",
   "metadata": {},
   "source": [
    "# Frog Species at Steele Creek Park\n",
    "\n",
    "[Jessee, et al. 2023](https://bioone.org/journals/southeastern-naturalist/volume-21/issue-1/058.021.0110/Herpetofauna-of-Steele-Creek-Park-Sullivan-County-TN-with-Comments/10.1656/058.021.0110.short>) listed 10 frog species observed at Steele Creek Park over a span of fifty years. For more information on each species, click the 🐸 to go to iNaturalist.com.\n",
    "\n",
    "|Scientific Name|Common Name|iNaturalist|\n",
    "|---|---|---|\n",
    "|Anaxyrus americanus|American Toad|[🐸](https://www.inaturalist.org/taxa/64968-Anaxyrus-americanus)|\n",
    "|Anaxyrus fowleri|Fowler's Toad|[🐸](https://www.inaturalist.org/taxa/64977-Anaxyrus-fowleri)|\n",
    "|Dryophytes chrysoscelis|Cope's Gray Treefrog|[🐸](https://www.inaturalist.org/taxa/23930-Hyla-chrysoscelis)|\n",
    "|Lithobates catesbeianus|American Bullfrog|[🐸](https://www.inaturalist.org/taxa/65979-Lithobates-catesbeianus)|\n",
    "|Lithobates clamitans|Green Frog|[🐸](https://www.inaturalist.org/taxa/65982-Lithobates-clamitans)|\n",
    "|Lithobates palustris|Pickerel Frog|[🐸](https://www.inaturalist.org/taxa/66002-Lithobates-palustris)|\n",
    "|Lithobates sphenocephalus|Southern Leopard Frog|[🐸](https://www.inaturalist.org/taxa/60341-Lithobates-sphenocephalus)|\n",
    "|Lithobates sylvaticus|Wood Frog|[🐸](https://www.inaturalist.org/taxa/66012-Lithobates-sylvaticus)|\n",
    "|Pseudacris crucifer|Spring Peeper|[🐸](https://www.inaturalist.org/taxa/24268-Pseudacris-crucifer)|\n",
    "|Pseudacris feriarum|Upland Chorus Frog|[🐸](https://www.inaturalist.org/taxa/24263-Pseudacris-feriarum)|\n",
    "\n",
    "You can use the iNaturalist web application programming interface (API) to retrieve statistics from observations made at Steele Creek Park on iNaturalist."
   ]
  },
  {
   "cell_type": "code",
   "execution_count": null,
   "metadata": {},
   "outputs": [],
   "source": [
    "# import pyinaturalist (wrapper for the iNaturalist API)\n",
    "from pyinaturalist import get_observation_species_counts, TaxonCount, pprint\n",
    "\n",
    "# define the place_id and taxon_id of interest from iNaturalist\n",
    "steele_creek_park_place_id = 130630\n",
    "frog_taxon_id = 20979\n",
    "\n",
    "# get the observation species counts for frogs at Steele Creek Park\n",
    "response = get_observation_species_counts(place_id= steele_creek_park_place_id, taxon_id=frog_taxon_id)\n",
    "\n",
    "# response comes in as a list of dictionaries in JSON format, Taxon count will help us parse it\n",
    "taxa = TaxonCount.from_json_list(response['results'][:])\n",
    "\n",
    "# pretty print out the results\n",
    "pprint(taxa)"
   ]
  },
  {
   "cell_type": "markdown",
   "metadata": {},
   "source": []
  }
 ],
 "metadata": {
  "kernelspec": {
   "display_name": "Python 3",
   "language": "python",
   "name": "python3"
  },
  "language_info": {
   "codemirror_mode": {
    "name": "ipython",
    "version": 3
   },
   "file_extension": ".py",
   "mimetype": "text/x-python",
   "name": "python",
   "nbconvert_exporter": "python",
   "pygments_lexer": "ipython3",
   "version": "3.11.10"
  }
 },
 "nbformat": 4,
 "nbformat_minor": 2
}
