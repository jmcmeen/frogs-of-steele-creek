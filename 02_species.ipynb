{
 "cells": [
  {
   "cell_type": "markdown",
   "metadata": {},
   "source": [
    "|Scientific Name|Common Name|\n",
    "|---|---|\n",
    "|Lithobates catesbeianus|American Bullfrog|\n",
    "|Anaxyrus americanus|American Toad|\n",
    "|Dryophytes chrysoscelis|Cope's Gray Treefrog|\n",
    "|Anaxyrus fowleri|Fowler's Toad|\n",
    "|Lithobates clamitans|Green Frog|\n",
    "|Lithobates palustris|Pickerel Frog|\n",
    "|Lithobates sphenocephalus|Southern Leopard Frog|\n",
    "|Pseudacris crucifer|Spring Peeper|\n",
    "|Pseudacris feriarum|Upland Chorus Frog|\n",
    "|Lithobates sylvaticus|Wood Frog|\n"
   ]
  },
  {
   "cell_type": "code",
   "execution_count": null,
   "metadata": {},
   "outputs": [],
   "source": []
  }
 ],
 "metadata": {
  "language_info": {
   "name": "python"
  }
 },
 "nbformat": 4,
 "nbformat_minor": 2
}
