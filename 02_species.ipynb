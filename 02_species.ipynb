{
 "cells": [
  {
   "cell_type": "markdown",
   "metadata": {},
   "source": [
    "[Jessee, et al. 2023](https://bioone.org/journals/southeastern-naturalist/volume-21/issue-1/058.021.0110/Herpetofauna-of-Steele-Creek-Park-Sullivan-County-TN-with-Comments/10.1656/058.021.0110.short>) listed 10 frog species observed at Steele Creek Park over a span of fifty years. For more information on each species, click the 🐸 to go to iNaturalist.com.\n",
    "\n",
    "|Scientific Name|Common Name|iNaturalist|\n",
    "|---|---|---|\n",
    "|Anaxyrus americanus|American Toad|[🐸](https://www.inaturalist.org/taxa/64968-Anaxyrus-americanus)|\n",
    "|Anaxyrus fowleri|Fowler's Toad|[🐸](https://www.inaturalist.org/taxa/64977-Anaxyrus-fowleri)|\n",
    "|Dryophytes chrysoscelis|Cope's Gray Treefrog|[🐸](https://www.inaturalist.org/taxa/23930-Hyla-chrysoscelis)|\n",
    "|Lithobates catesbeianus|American Bullfrog|[🐸](https://www.inaturalist.org/taxa/65979-Lithobates-catesbeianus)|\n",
    "|Lithobates clamitans|Green Frog|[🐸](https://www.inaturalist.org/taxa/65982-Lithobates-clamitans)|\n",
    "|Lithobates palustris|Pickerel Frog|[🐸](https://www.inaturalist.org/taxa/66002-Lithobates-palustris)|\n",
    "|Lithobates sphenocephalus|Southern Leopard Frog|[🐸](https://www.inaturalist.org/taxa/60341-Lithobates-sphenocephalus)|\n",
    "|Lithobates sylvaticus|Wood Frog|[🐸](https://www.inaturalist.org/taxa/66012-Lithobates-sylvaticus)|\n",
    "|Pseudacris crucifer|Spring Peeper|[🐸](https://www.inaturalist.org/taxa/24268-Pseudacris-crucifer)|\n",
    "|Pseudacris feriarum|Upland Chorus Frog|[🐸](https://www.inaturalist.org/taxa/24263-Pseudacris-feriarum)|\n",
    "\n",
    "We can also use the iNaturalist web application programming interface (API) to retrieve statistics from observations made at Steele Creek Park on iNaturalist."
   ]
  },
  {
   "cell_type": "code",
   "execution_count": 7,
   "metadata": {},
   "outputs": [
    {
     "data": {
      "text/html": [
       "<pre style=\"white-space:pre;overflow-x:auto;line-height:normal;font-family:Menlo,'DejaVu Sans Mono',consolas,'Courier New',monospace\">                                                                             \n",
       " <span style=\"color: #c0c0c0; text-decoration-color: #c0c0c0; font-weight: bold\"> ID    </span> <span style=\"color: #c0c0c0; text-decoration-color: #c0c0c0; font-weight: bold\"> Rank    </span> <span style=\"color: #c0c0c0; text-decoration-color: #c0c0c0; font-weight: bold\"> Scientific name          </span> <span style=\"color: #c0c0c0; text-decoration-color: #c0c0c0; font-weight: bold\"> Common name          </span> <span style=\"color: #c0c0c0; text-decoration-color: #c0c0c0; font-weight: bold\"> Count </span> \n",
       " ━━━━━━━━━━━━━━━━━━━━━━━━━━━━━━━━━━━━━━━━━━━━━━━━━━━━━━━━━━━━━━━━━━━━━━━━━━━ \n",
       " <span style=\"color: #7fbfbf; text-decoration-color: #7fbfbf\"> 65982 </span> <span style=\"color: #ebc3ff; text-decoration-color: #ebc3ff\"> species </span> <span style=\"color: #7fbf7f; text-decoration-color: #7fbf7f\"> 🐸 Lithobates clamitans  </span> <span style=\"color: #7f7fbf; text-decoration-color: #7f7fbf\"> Green Frog           </span> <span style=\"color: #7f7fbf; text-decoration-color: #7f7fbf\"> 32    </span> \n",
       " <span style=\"color: #008080; text-decoration-color: #008080\"> 66002 </span> <span style=\"color: #d787ff; text-decoration-color: #d787ff\"> species </span> <span style=\"color: #008000; text-decoration-color: #008000\"> 🐸 Lithobates palustris  </span> <span style=\"color: #000080; text-decoration-color: #000080\"> Pickerel Frog        </span> <span style=\"color: #000080; text-decoration-color: #000080\"> 28    </span> \n",
       " <span style=\"color: #7fbfbf; text-decoration-color: #7fbfbf\"> 66012 </span> <span style=\"color: #ebc3ff; text-decoration-color: #ebc3ff\"> species </span> <span style=\"color: #7fbf7f; text-decoration-color: #7fbf7f\"> 🐸 Lithobates sylvaticus </span> <span style=\"color: #7f7fbf; text-decoration-color: #7f7fbf\"> Wood Frog            </span> <span style=\"color: #7f7fbf; text-decoration-color: #7f7fbf\"> 18    </span> \n",
       " <span style=\"color: #008080; text-decoration-color: #008080\"> 64968 </span> <span style=\"color: #d787ff; text-decoration-color: #d787ff\"> species </span> <span style=\"color: #008000; text-decoration-color: #008000\"> 🐸 Anaxyrus americanus   </span> <span style=\"color: #000080; text-decoration-color: #000080\"> American Toad        </span> <span style=\"color: #000080; text-decoration-color: #000080\"> 13    </span> \n",
       " <span style=\"color: #7fbfbf; text-decoration-color: #7fbfbf\"> 24263 </span> <span style=\"color: #ebc3ff; text-decoration-color: #ebc3ff\"> species </span> <span style=\"color: #7fbf7f; text-decoration-color: #7fbf7f\"> 🐸 Pseudacris feriarum   </span> <span style=\"color: #7f7fbf; text-decoration-color: #7f7fbf\"> Upland Chorus Frog   </span> <span style=\"color: #7f7fbf; text-decoration-color: #7f7fbf\"> 6     </span> \n",
       " <span style=\"color: #008080; text-decoration-color: #008080\"> 23930 </span> <span style=\"color: #d787ff; text-decoration-color: #d787ff\"> species </span> <span style=\"color: #008000; text-decoration-color: #008000\"> 🐸 Hyla chrysoscelis     </span> <span style=\"color: #000080; text-decoration-color: #000080\"> Cope's Gray Treefrog </span> <span style=\"color: #000080; text-decoration-color: #000080\"> 5     </span> \n",
       " <span style=\"color: #7fbfbf; text-decoration-color: #7fbfbf\"> 24268 </span> <span style=\"color: #ebc3ff; text-decoration-color: #ebc3ff\"> species </span> <span style=\"color: #7fbf7f; text-decoration-color: #7fbf7f\"> 🐸 Pseudacris crucifer   </span> <span style=\"color: #7f7fbf; text-decoration-color: #7f7fbf\"> Spring Peeper        </span> <span style=\"color: #7f7fbf; text-decoration-color: #7f7fbf\"> 5     </span> \n",
       "                                                                             \n",
       "</pre>\n"
      ],
      "text/plain": [
       "                                                                             \n",
       " \u001b[1;37m \u001b[0m\u001b[1;37mID   \u001b[0m\u001b[1;37m \u001b[0m \u001b[1;37m \u001b[0m\u001b[1;37mRank   \u001b[0m\u001b[1;37m \u001b[0m \u001b[1;37m \u001b[0m\u001b[1;37mScientific name         \u001b[0m\u001b[1;37m \u001b[0m \u001b[1;37m \u001b[0m\u001b[1;37mCommon name         \u001b[0m\u001b[1;37m \u001b[0m \u001b[1;37m \u001b[0m\u001b[1;37mCount\u001b[0m\u001b[1;37m \u001b[0m \n",
       " ━━━━━━━━━━━━━━━━━━━━━━━━━━━━━━━━━━━━━━━━━━━━━━━━━━━━━━━━━━━━━━━━━━━━━━━━━━━ \n",
       " \u001b[2;36m \u001b[0m\u001b[2;36m65982\u001b[0m\u001b[2;36m \u001b[0m \u001b[2;38;5;177m \u001b[0m\u001b[2;38;5;177mspecies\u001b[0m\u001b[2;38;5;177m \u001b[0m \u001b[2;32m \u001b[0m\u001b[2;32m🐸 Lithobates clamitans \u001b[0m\u001b[2;32m \u001b[0m \u001b[2;34m \u001b[0m\u001b[2;34mGreen Frog          \u001b[0m\u001b[2;34m \u001b[0m \u001b[2;34m \u001b[0m\u001b[2;34m32   \u001b[0m\u001b[2;34m \u001b[0m \n",
       " \u001b[36m \u001b[0m\u001b[36m66002\u001b[0m\u001b[36m \u001b[0m \u001b[38;5;177m \u001b[0m\u001b[38;5;177mspecies\u001b[0m\u001b[38;5;177m \u001b[0m \u001b[32m \u001b[0m\u001b[32m🐸 Lithobates palustris \u001b[0m\u001b[32m \u001b[0m \u001b[34m \u001b[0m\u001b[34mPickerel Frog       \u001b[0m\u001b[34m \u001b[0m \u001b[34m \u001b[0m\u001b[34m28   \u001b[0m\u001b[34m \u001b[0m \n",
       " \u001b[2;36m \u001b[0m\u001b[2;36m66012\u001b[0m\u001b[2;36m \u001b[0m \u001b[2;38;5;177m \u001b[0m\u001b[2;38;5;177mspecies\u001b[0m\u001b[2;38;5;177m \u001b[0m \u001b[2;32m \u001b[0m\u001b[2;32m🐸 Lithobates sylvaticus\u001b[0m\u001b[2;32m \u001b[0m \u001b[2;34m \u001b[0m\u001b[2;34mWood Frog           \u001b[0m\u001b[2;34m \u001b[0m \u001b[2;34m \u001b[0m\u001b[2;34m18   \u001b[0m\u001b[2;34m \u001b[0m \n",
       " \u001b[36m \u001b[0m\u001b[36m64968\u001b[0m\u001b[36m \u001b[0m \u001b[38;5;177m \u001b[0m\u001b[38;5;177mspecies\u001b[0m\u001b[38;5;177m \u001b[0m \u001b[32m \u001b[0m\u001b[32m🐸 Anaxyrus americanus  \u001b[0m\u001b[32m \u001b[0m \u001b[34m \u001b[0m\u001b[34mAmerican Toad       \u001b[0m\u001b[34m \u001b[0m \u001b[34m \u001b[0m\u001b[34m13   \u001b[0m\u001b[34m \u001b[0m \n",
       " \u001b[2;36m \u001b[0m\u001b[2;36m24263\u001b[0m\u001b[2;36m \u001b[0m \u001b[2;38;5;177m \u001b[0m\u001b[2;38;5;177mspecies\u001b[0m\u001b[2;38;5;177m \u001b[0m \u001b[2;32m \u001b[0m\u001b[2;32m🐸 Pseudacris feriarum  \u001b[0m\u001b[2;32m \u001b[0m \u001b[2;34m \u001b[0m\u001b[2;34mUpland Chorus Frog  \u001b[0m\u001b[2;34m \u001b[0m \u001b[2;34m \u001b[0m\u001b[2;34m6    \u001b[0m\u001b[2;34m \u001b[0m \n",
       " \u001b[36m \u001b[0m\u001b[36m23930\u001b[0m\u001b[36m \u001b[0m \u001b[38;5;177m \u001b[0m\u001b[38;5;177mspecies\u001b[0m\u001b[38;5;177m \u001b[0m \u001b[32m \u001b[0m\u001b[32m🐸 Hyla chrysoscelis    \u001b[0m\u001b[32m \u001b[0m \u001b[34m \u001b[0m\u001b[34mCope's Gray Treefrog\u001b[0m\u001b[34m \u001b[0m \u001b[34m \u001b[0m\u001b[34m5    \u001b[0m\u001b[34m \u001b[0m \n",
       " \u001b[2;36m \u001b[0m\u001b[2;36m24268\u001b[0m\u001b[2;36m \u001b[0m \u001b[2;38;5;177m \u001b[0m\u001b[2;38;5;177mspecies\u001b[0m\u001b[2;38;5;177m \u001b[0m \u001b[2;32m \u001b[0m\u001b[2;32m🐸 Pseudacris crucifer  \u001b[0m\u001b[2;32m \u001b[0m \u001b[2;34m \u001b[0m\u001b[2;34mSpring Peeper       \u001b[0m\u001b[2;34m \u001b[0m \u001b[2;34m \u001b[0m\u001b[2;34m5    \u001b[0m\u001b[2;34m \u001b[0m \n",
       "                                                                             \n"
      ]
     },
     "metadata": {},
     "output_type": "display_data"
    }
   ],
   "source": [
    "# import pyinaturalist (wrapper for the iNaturalist API)\n",
    "from pyinaturalist import get_observation_species_counts, TaxonCount, pprint\n",
    "\n",
    "# define the place_id and taxon_id of interest from iNaturalist\n",
    "steele_creek_park_place_id = 130630\n",
    "frog_taxon_id = 20979\n",
    "\n",
    "# get the observation species counts for frogs at Steele Creek Park\n",
    "response = get_observation_species_counts(place_id= steele_creek_park_place_id, taxon_id=frog_taxon_id)\n",
    "\n",
    "# response comes in as a list of dictionaries in JSON format, Taxon count will help us parse it\n",
    "taxa = TaxonCount.from_json_list(response['results'][:])\n",
    "\n",
    "# pretty print out the results\n",
    "pprint(taxa)"
   ]
  }
 ],
 "metadata": {
  "kernelspec": {
   "display_name": "Python 3",
   "language": "python",
   "name": "python3"
  },
  "language_info": {
   "codemirror_mode": {
    "name": "ipython",
    "version": 3
   },
   "file_extension": ".py",
   "mimetype": "text/x-python",
   "name": "python",
   "nbconvert_exporter": "python",
   "pygments_lexer": "ipython3",
   "version": "3.11.7"
  }
 },
 "nbformat": 4,
 "nbformat_minor": 2
}
