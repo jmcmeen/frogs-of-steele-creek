{
 "cells": [
  {
   "cell_type": "markdown",
   "metadata": {},
   "source": [
    "# Frog Species at Steele Creek Park\n",
    "This notebook explores biological nomenclature and local biodiversity through internet technology. We'll examine the dual naming system in biology—scientific names for universal identification and common names for everyday reference—focusing on frog species found at Steele Creek. We'll then explore web APIs (Application Programming Interfaces) that allow programmatic access to scientific databases, and demonstrate how to use the pyinaturalist Python library to connect with the iNaturalist API for retrieving real-world observation data and species information about amphibians in our local park ecosystem.\n",
    "\n",
    "## What are scientific names and common names?\n",
    "In biology, species have two types of names: **scientific** and **common**. Scientific names, also known as binomial nomenclature, are unique, universal, and consist of a genus and species name, such as Homo sapiens. These Latinized names are used globally in scientific and academic contexts, providing a precise and formal way to identify species. \n",
    "\n",
    "On the other hand, common names are regional, variable, and often descriptive, like \"Mountain Lion\" or \"Red-winged Blackbird.\" While common names can be helpful for everyday conversations and educational purposes, they can be confusing due to multiple names for the same species and lack of standardization. Using scientific names ensures accuracy and clarity in technical discussions, but common names can be useful for engaging a broader audience, making it beneficial to use both in different contexts.\n",
    "\n",
    "❓ Do you know the common or scientific names of any animals found in Steele Creek Park?\n",
    "\n",
    "❓ How many different types of plants and animals are found in Steele Creek Park?\n",
    "\n",
    "## Frogs Species\n",
    "Scientists at Steele Creek Park, [Jessee, et al. 2023](https://bioone.org/journals/southeastern-naturalist/volume-21/issue-1/058.021.0110/Herpetofauna-of-Steele-Creek-Park-Sullivan-County-TN-with-Comments/10.1656/058.021.0110.short>), documented 10 frog species observed at Steele Creek Park over a span of fifty years. For more information on each species, click the 🐸 to go to iNaturalist.com. \n",
    "\n",
    "|Scientific Name|Common Name|iNaturalist|\n",
    "|---|---|---|\n",
    "|Anaxyrus americanus|American Toad|[🐸](https://www.inaturalist.org/taxa/64968-Anaxyrus-americanus)|\n",
    "|Anaxyrus fowleri|Fowler's Toad|[🐸](https://www.inaturalist.org/taxa/64977-Anaxyrus-fowleri)|\n",
    "|Dryophytes chrysoscelis|Cope's Gray Treefrog|[🐸](https://www.inaturalist.org/taxa/23930-Hyla-chrysoscelis)|\n",
    "|Lithobates catesbeianus|American Bullfrog|[🐸](https://www.inaturalist.org/taxa/65979-Lithobates-catesbeianus)|\n",
    "|Lithobates clamitans|Green Frog|[🐸](https://www.inaturalist.org/taxa/65982-Lithobates-clamitans)|\n",
    "|Lithobates palustris|Pickerel Frog|[🐸](https://www.inaturalist.org/taxa/66002-Lithobates-palustris)|\n",
    "|Lithobates sphenocephalus|Southern Leopard Frog|[🐸](https://www.inaturalist.org/taxa/60341-Lithobates-sphenocephalus)|\n",
    "|Lithobates sylvaticus|Wood Frog|[🐸](https://www.inaturalist.org/taxa/66012-Lithobates-sylvaticus)|\n",
    "|Pseudacris crucifer|Spring Peeper|[🐸](https://www.inaturalist.org/taxa/24268-Pseudacris-crucifer)|\n",
    "|Pseudacris feriarum|Upland Chorus Frog|[🐸](https://www.inaturalist.org/taxa/24263-Pseudacris-feriarum)|"
   ]
  },
  {
   "cell_type": "markdown",
   "metadata": {},
   "source": [
    "## iNaturalist\n",
    "In this next section we will work with iNaturalist, which is a global citizen science platform and social network where users can upload photos of plants, animals, and other organisms to help identify and document biodiversity around the world. The platform crowdsources species identification through its community of naturalists and scientists, creating a massive database of observations that contributes to scientific research and conservation efforts. iNaturalist is available to everyone for free via a website, mobile applications, and in your own Python software by using their web API.\n",
    "A web API (Application Programming Interface) is a set of rules and protocols that allows different software applications to communicate with each other over the internet, allowing you to request specific information (like species data) and receive structured responses that your program can process and use.\n",
    "\n",
    "To understand how the web API works, we will first look at a normal web link, formally called a URL () from iNaturlist.\n",
    "\n",
    "[https://www.inaturalist.org/places/130630](https://www.inaturalist.org/places/130630)\n",
    "\n",
    "Notice the word places. In web programming, we call this a route. You can think of a route as a set of directions in a web application to specific function or set of tasks. After places, we have a number, 130630. This number is also a routse, but it is also an ID used in the iNaturalist platform to identify a place, Steele Creek Park! Every designated place in iNaturalist has an ID. Along with places, IDs are used to reference Species, Observations, Projects, and just about everything found on iNaturlist.\n",
    "\n",
    "❓ Look at the following web URLS and see if you can figure out what type of data you will see before you click the link.\n",
    "- [https://www.inaturalist.org/taxa/24263-Pseudacris-feriarum](https://www.inaturalist.org/taxa/24263-Pseudacris-feriarum)\n",
    "- [https://www.inaturalist.org/people/tnnaturalist](https://www.inaturalist.org/people/tnnaturalist)\n",
    "- [https://www.inaturalist.org/observations/261156358](https://www.inaturalist.org/observations/261156358)\n",
    "- [https://www.inaturalist.org/observations?user_id=lancedj](https://www.inaturalist.org/observations?user_id=lancedj)\n",
    "- [https://www.inaturalist.org/projects/appalachia-bioacoustics](https://www.inaturalist.org/projects/appalachia-bioacoustics)\n",
    "- [https://api.inaturalist.org/observations/261156358](https://api.inaturalist.org/v1/observations/261156358)\n",
    "\n",
    "❓ Do you notice anything different about the last URL when compared to the others or when you click it? \n",
    "\n",
    "Let's write some Python code to see what the last URL gives us when used programatically. "
   ]
  },
  {
   "cell_type": "code",
   "execution_count": null,
   "metadata": {},
   "outputs": [],
   "source": [
    "import requests\n",
    "import json\n",
    "\n",
    "# Make GET request to iNaturalist API\n",
    "url = \"https://api.inaturalist.org/v1/observations/261156358\"\n",
    "response = requests.get(url)\n",
    "\n",
    "# Check if request was successful\n",
    "if response.status_code == 200:\n",
    "    # Parse JSON response\n",
    "    data = response.json()\n",
    "    # Pretty print the JSON data\n",
    "    print(json.dumps(data, indent=2))\n",
    "else:\n",
    "    print(f\"Request failed with status code: {response.status_code}\")"
   ]
  },
  {
   "cell_type": "markdown",
   "metadata": {},
   "source": [
    "Web APIs primarily return data. While humans want data to be organized in visually or logically appealling formats, computers prefer data to be organized into groups and block. The data returned to us via the API is called JSON. JSON (JavaScript Object Notation) is a lightweight, human-readable data interchange format that uses a simple text-based syntax to represent data as key-value pairs, arrays, and objects, making it a widely-used standard for exchanging and storing data between web servers, web applications, and mobile apps.\n",
    "\n",
    "While we say JSON is human readable, it does take time to learn how to use web APIs and to read JSON. So we will use a Python library that makes the entire process a lot easier, pynaturalist! Pyinaturalist is a Python library that provides a simple interface for accessing the iNaturalist web API, allowing software developers to programmatically retrieve observation data, species information, and other biodiversity records from the iNaturalist platform. It simplifies the process of making API requests by handling authentication, data formatting, and organizing responses from the service, enabling researchers and developers to easily integrate iNaturalist's vast collection of citizen science data into their Python projects.\n",
    "\n",
    "Let's start by importing the tools we need from pyinaturlist.\n",
    "- get_observation_species_counts() - a function that given a Place ID and a Taxon ID (a species group ID) will return the number of observations per Taxa (species) in JSON format.\n",
    "- TaxonCount- a tool that can read a JSON response from the API and count how many Observations have been made of each species in the group.\n",
    "- pprint - a function that pretty prints tables of information."
   ]
  },
  {
   "cell_type": "code",
   "execution_count": null,
   "metadata": {},
   "outputs": [],
   "source": [
    "# import pyinaturalist (wrapper for the iNaturalist API)\n",
    "from pyinaturalist import get_observation_species_counts, TaxonCount, pprint"
   ]
  },
  {
   "cell_type": "markdown",
   "metadata": {},
   "source": [
    "Next we will create variables to hold our IDs and give them more meaningful names in our code. "
   ]
  },
  {
   "cell_type": "code",
   "execution_count": null,
   "metadata": {},
   "outputs": [],
   "source": [
    "# define the place_id and taxon_id of interest from iNaturalist\n",
    "place_id = 130630\n",
    "taxon_id = 20979"
   ]
  },
  {
   "cell_type": "markdown",
   "metadata": {},
   "source": [
    "Next we use the function get_observation_species_counts to request data from iNaturlist.com. The function handles all the communication so we don't have to manually write our requests as we saw previously."
   ]
  },
  {
   "cell_type": "code",
   "execution_count": null,
   "metadata": {},
   "outputs": [],
   "source": [
    "# get the observation species counts for frogs at Steele Creek Park\n",
    "response = get_observation_species_counts(place_id=place_id, taxon_id=taxon_id)"
   ]
  },
  {
   "cell_type": "markdown",
   "metadata": {},
   "source": [
    "Now that we have gotten a reponse, we need to oprganize the data using the function TaxonCount.from_json_list(). Then with our data organized, we can print it to the screen, giving us the number of observations per species at Steele Creek Park."
   ]
  },
  {
   "cell_type": "code",
   "execution_count": null,
   "metadata": {},
   "outputs": [],
   "source": [
    "# response comes in as a list of dictionaries in JSON format, Taxon count will help us parse it\n",
    "taxa = TaxonCount.from_json_list(response['results'][:])\n",
    "\n",
    "# pretty print out the results\n",
    "pprint(taxa)"
   ]
  },
  {
   "cell_type": "markdown",
   "metadata": {},
   "source": [
    "# Species Counts Per Taxon \n",
    "\n",
    "Below we have condensed the code to be ran in one step.\n",
    "\n",
    "❓ What happens if we change the place_id before each run? Try these values (135489, 120301)\n",
    "❓ What happens if we change the taxon_d before each run? Try these values (26036, 47158)"
   ]
  },
  {
   "cell_type": "code",
   "execution_count": null,
   "metadata": {},
   "outputs": [],
   "source": [
    "place_id = 135489\n",
    "taxon_id = 20979\n",
    "\n",
    "from pyinaturalist import *\n",
    "\n",
    "response = get_observation_species_counts(place_id=place_id, taxon_id=taxon_id)\n",
    "taxa = TaxonCount.from_json_list(response['results'][:])\n",
    "\n",
    "reponse = get_places_by_id(place_id)\n",
    "place_name = Place.from_json(reponse['results'][0]).name\n",
    "\n",
    "response = get_taxa_by_id(taxon_id)\n",
    "taxon_name = Taxon.from_json(response['results'][0]).name\n",
    "\n",
    "print(f\"Observations counts for {taxon_name} at {place_name}\")\n",
    "\n",
    "pprint(taxa)"
   ]
  }
 ],
 "metadata": {
  "kernelspec": {
   "display_name": ".venv",
   "language": "python",
   "name": "python3"
  },
  "language_info": {
   "codemirror_mode": {
    "name": "ipython",
    "version": 3
   },
   "file_extension": ".py",
   "mimetype": "text/x-python",
   "name": "python",
   "nbconvert_exporter": "python",
   "pygments_lexer": "ipython3",
   "version": "3.11.13"
  }
 },
 "nbformat": 4,
 "nbformat_minor": 2
}
