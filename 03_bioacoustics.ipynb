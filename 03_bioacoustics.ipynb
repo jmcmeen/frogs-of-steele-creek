{
 "cells": [
  {
   "cell_type": "markdown",
   "metadata": {},
   "source": [
    "# Bioacoustics\n",
    "\n",
    "Bioacoustics is the study of the production, transmission, and reception of sound in the natural world, particularly in the context of animal behavior and ecology. It involves the analysis of the acoustic signals produced by animals, such as vocalizations, calls, chirps, and songs, as well as the physical properties of the environment that affect the transmission and reception of these sounds. Bioacoustics is used to understand animal behavior, communication, and social interactions, as well as to study the impact of environmental changes and human activities on animal populations. By analyzing the acoustic signals produced by animals, researchers can gain insights into their behavior, habitat use, and population dynamics, ultimately informing conservation and management efforts.\n",
    "\n",
    "Supplementary audio files are not included and must be downloaded [here](https://drive.google.com/file/d/1k_J5elX7NPuYVBdP8cx7arCurQdkkhiu/view?usp=drive_link). Unzip the contents into the \"data/audio\" directory of this repo. \n"
   ]
  },
  {
   "cell_type": "code",
   "execution_count": null,
   "metadata": {},
   "outputs": [],
   "source": [
    "from opensoundscape import Audio, Spectrogram\n",
    "\n",
    "low_cut = 300\n",
    "high_cut = 4000"
   ]
  },
  {
   "cell_type": "markdown",
   "metadata": {},
   "source": [
    "## Anaxyrus americanus - American Toad"
   ]
  },
  {
   "cell_type": "code",
   "execution_count": null,
   "metadata": {},
   "outputs": [],
   "source": [
    "american_toad = Audio.from_file('data/audio/wav/american toad-20230329_180000.wav').trim(1,2)\n",
    "spectrogram_object = Spectrogram.from_audio(american_toad, window_samples=1100).bandpass(min_f=low_cut, max_f=high_cut)\n",
    "spectrogram_object.plot()\n",
    "american_toad.show_widget(normalize=True)"
   ]
  },
  {
   "cell_type": "markdown",
   "metadata": {},
   "source": [
    "## Lithobates catesbeianus- American Bullfrog"
   ]
  },
  {
   "cell_type": "code",
   "execution_count": null,
   "metadata": {},
   "outputs": [],
   "source": [
    "american_bullfrog = Audio.from_file('data/audio/wav/bullfrog-20230706_180000.wav')\n",
    "spectrogram_object = Spectrogram.from_audio(american_bullfrog).bandpass(min_f=low_cut, max_f=high_cut)\n",
    "spectrogram_object.plot()\n",
    "american_bullfrog.show_widget(normalize=True)\n"
   ]
  },
  {
   "cell_type": "markdown",
   "metadata": {},
   "source": [
    "## Dryophytes chrysoscelis - Cope's Gray Treefrog"
   ]
  },
  {
   "cell_type": "code",
   "execution_count": null,
   "metadata": {},
   "outputs": [],
   "source": [
    "copes_gray_treefrog = Audio.from_file('data/audio/wav/copes gray treefrog_20230618_180000.wav')\n",
    "spectrogram_object = Spectrogram.from_audio(copes_gray_treefrog).bandpass(min_f=low_cut, max_f=high_cut)\n",
    "spectrogram_object.plot()\n",
    "copes_gray_treefrog.show_widget(normalize=True)"
   ]
  },
  {
   "cell_type": "markdown",
   "metadata": {},
   "source": [
    "## Lithobates clamitans - Green Frog"
   ]
  },
  {
   "cell_type": "code",
   "execution_count": null,
   "metadata": {},
   "outputs": [],
   "source": [
    "green_frog = Audio.from_file('data/audio/wav/green frog - 20230520_180000.wav')\n",
    "spectrogram_object = Spectrogram.from_audio(green_frog).bandpass(min_f=low_cut, max_f=high_cut)\n",
    "spectrogram_object.plot()\n",
    "green_frog.show_widget(normalize=True)"
   ]
  },
  {
   "cell_type": "markdown",
   "metadata": {},
   "source": [
    "# Lithobates palustris - Pickerel Frog"
   ]
  },
  {
   "cell_type": "code",
   "execution_count": null,
   "metadata": {},
   "outputs": [],
   "source": [
    "\n",
    "\n",
    "pickerel_frog = Audio.from_file('data/audio/wav/pickerel frog-20230327_210002.wav')\n",
    "spectrogram_object = Spectrogram.from_audio(pickerel_frog).bandpass(min_f=low_cut, max_f=high_cut)\n",
    "spectrogram_object.plot()\n",
    "pickerel_frog.show_widget(normalize=True)"
   ]
  },
  {
   "cell_type": "markdown",
   "metadata": {},
   "source": [
    "## Lithobates sylvaticus - Wood Frog"
   ]
  },
  {
   "cell_type": "code",
   "execution_count": null,
   "metadata": {},
   "outputs": [],
   "source": [
    "wood_frog = Audio.from_file('data/audio/wav/wood frog-20230210_030003.wav')\n",
    "spectrogram_object = Spectrogram.from_audio(wood_frog).bandpass(min_f=low_cut, max_f=high_cut)\n",
    "spectrogram_object.plot()\n",
    "wood_frog.show_widget(normalize=True)"
   ]
  },
  {
   "cell_type": "markdown",
   "metadata": {},
   "source": [
    "## Pseudacris crucifer - Spring Peeper "
   ]
  },
  {
   "cell_type": "code",
   "execution_count": null,
   "metadata": {},
   "outputs": [],
   "source": [
    "spring_peeper = Audio.from_file('data/audio/wav/spring peeper_20230330_030002.wav')\n",
    "spectrogram_object = Spectrogram.from_audio(spring_peeper).bandpass(min_f=low_cut, max_f=high_cut)\n",
    "spectrogram_object.plot()\n",
    "spring_peeper.show_widget(normalize=True)\n",
    "\n",
    "spring_peepers = Audio.from_file('data/audio/wav/spring peepers-20230409_000002.wav')\n",
    "spectrogram_object = Spectrogram.from_audio(spring_peepers).bandpass(min_f=low_cut, max_f=high_cut)\n",
    "spectrogram_object.plot()\n",
    "spring_peepers.show_widget(normalize=True)"
   ]
  },
  {
   "cell_type": "markdown",
   "metadata": {},
   "source": [
    "## Pseudacris feriarum - Upland Chorus Frog"
   ]
  },
  {
   "cell_type": "code",
   "execution_count": null,
   "metadata": {},
   "outputs": [],
   "source": [
    "upland_chorus_frog = Audio.from_file('data/audio/wav/upland chorus frog - 20230222.wav')\n",
    "spectrogram_object = Spectrogram.from_audio(upland_chorus_frog).bandpass(min_f=low_cut, max_f=high_cut)\n",
    "spectrogram_object.plot()\n",
    "upland_chorus_frog.show_widget(normalize=True)"
   ]
  }
 ],
 "metadata": {
  "kernelspec": {
   "display_name": ".venv",
   "language": "python",
   "name": "python3"
  },
  "language_info": {
   "codemirror_mode": {
    "name": "ipython",
    "version": 3
   },
   "file_extension": ".py",
   "mimetype": "text/x-python",
   "name": "python",
   "nbconvert_exporter": "python",
   "pygments_lexer": "ipython3",
   "version": "3.11.10"
  }
 },
 "nbformat": 4,
 "nbformat_minor": 2
}
