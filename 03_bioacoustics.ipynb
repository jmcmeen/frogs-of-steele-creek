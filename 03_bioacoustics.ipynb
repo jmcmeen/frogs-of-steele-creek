{
 "cells": [
  {
   "cell_type": "markdown",
   "metadata": {},
   "source": [
    "# Bioacoustics\n",
    "\n",
    "Bioacoustics is the study of the production, transmission, and reception of sound in the natural world, particularly in the context of animal behavior and ecology. It involves the analysis of the acoustic signals produced by animals, such as vocalizations, calls, chirps, and songs, as well as the physical properties of the environment that affect the transmission and reception of these sounds. Bioacoustics is used to understand animal behavior, communication, and social interactions, as well as to study the impact of environmental changes and human activities on animal populations. By analyzing the acoustic signals produced by animals, researchers can gain insights into their behavior, habitat use, and population dynamics, ultimately informing conservation and management efforts.\n",
    "\n",
    "Supplementary audio files are not included and must be downloaded [here](https://drive.google.com/file/d/1k_J5elX7NPuYVBdP8cx7arCurQdkkhiu/view?usp=drive_link). Unzip the contents into the \"data/audio\" directory of this repo. \n"
   ]
  },
  {
   "cell_type": "code",
   "execution_count": null,
   "metadata": {
    "vscode": {
     "languageId": "plaintext"
    }
   },
   "outputs": [],
   "source": [
    "# Code coming soon!"
   ]
  }
 ],
 "metadata": {
  "language_info": {
   "name": "python"
  }
 },
 "nbformat": 4,
 "nbformat_minor": 2
}
