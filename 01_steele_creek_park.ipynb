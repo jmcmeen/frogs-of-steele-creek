{
 "cells": [
  {
   "cell_type": "markdown",
   "metadata": {},
   "source": [
    "# Steele Creek Park\n",
    "\n",
    "Steele Creek Park is a beautiful outdoor space located in Bristol, Tennessee. Here are some interesting facts about our park!\n",
    "- Steele Creek Park covers over 2,200 acres!\n",
    "- The park was originally planned as a state park (Watauga) dating back prior to 1936. However, those plans were abandoned in 1945.\n",
    "- In 1961, Mayor Stacy Grayson announced plans to construct a park at Steele Creek. A 99-year lease was approved by the state, and later the property was deeded to the City of Bristol.\n",
    "- Steele Creek Park opened to the public on June 6, 1964.\n",
    "- The park features a Nature Center where visitors can learn about local wildlife and ecosystems.\n",
    "- There is a 52-acre lake within the park. Visitors can rent paddleboats, go kayaking, paddleboarding, and even fish.\n",
    "- Steele Creek Park offers 24 miles of hiking trails, allowing visitors to explore the picturesque scenery.\n",
    "- The park includes developed recreational areas with playgrounds, picnic tables, shelters, a splash pad, disc golf.\n",
    "\n",
    "The park’s main entrance is located at 4 Little Lane in Bristol, TN.\n",
    "For more information, you can contact the park at (423) 989-5616.\n",
    "\n",
    "Here we have a code example for geocoding, converting text to a location, using geopy and then mapping the point using GeoPandas."
   ]
  },
  {
   "cell_type": "code",
   "execution_count": null,
   "metadata": {},
   "outputs": [],
   "source": [
    "from geopy.geocoders import Photon\n",
    "import geopandas as gpd\n",
    "\n",
    "# Set up the geocoder service, Photon\n",
    "geolocator = Photon()\n",
    "\n",
    "# Define the location to map\n",
    "location = \"Steele Creek Park, Bristol, TN\"\n",
    "\n",
    "# Use the geocoder to get the coordinates\n",
    "location = geolocator.geocode(location, exactly_one=True)\n",
    "\n",
    "# Create a GeoDataFrame\n",
    "gdf = gpd.GeoDataFrame(geometry=gpd.points_from_xy([location.longitude], [location.latitude]), crs=\"EPSG:4326\")\n",
    "\n",
    "# examine the GeoDataFrame\n",
    "gdf.explore()"
   ]
  }
 ],
 "metadata": {
  "kernelspec": {
   "display_name": "Python 3",
   "language": "python",
   "name": "python3"
  },
  "language_info": {
   "codemirror_mode": {
    "name": "ipython",
    "version": 3
   },
   "file_extension": ".py",
   "mimetype": "text/x-python",
   "name": "python",
   "nbconvert_exporter": "python",
   "pygments_lexer": "ipython3",
   "version": "3.11.10"
  }
 },
 "nbformat": 4,
 "nbformat_minor": 2
}
