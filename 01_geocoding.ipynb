{
 "cells": [
  {
   "cell_type": "markdown",
   "metadata": {},
   "source": [
    "## Geocoding Steele Creek Park\n",
    "For this first page in our notebook, we will learn some Python programming, and use some of the libraries we installed with pip! Let's take a look at the tools we will be using. First we will import the neccessary libraries, by running the cell below."
   ]
  },
  {
   "cell_type": "code",
   "execution_count": null,
   "metadata": {},
   "outputs": [],
   "source": [
    "from geopy.geocoders import Photon\n",
    "import geopandas as gpd"
   ]
  },
  {
   "cell_type": "markdown",
   "metadata": {},
   "source": [
    "In the next step, we use a **🗺️ geocoder,** which is a tool that converts addresses or place names into geographic coordinates, to convert the text \"Steele Creek Park, Bristol\" into a map co-ordinate. Geocoders are essential for mapping applications, spatial analysis, and location-based services. Popular geocoding web services include Google Maps, OpenStreetMap, Nominatim, and Photon, which is used in this example.\n",
    "\n",
    " The code below initializes a Photon geocoder service, defines a search string for \"Steele Creek Park, Bristol,\" uses the geocoder to convert that address into coordinates (returning only the best match), and then prints the resulting location information."
   ]
  },
  {
   "cell_type": "code",
   "execution_count": null,
   "metadata": {},
   "outputs": [],
   "source": [
    "# Set up the geocoder service, Photon\n",
    "geolocator = Photon()\n",
    "\n",
    "# Define the location to map\n",
    "search_text = \"Steele Creek Park, Bristol\"\n",
    "\n",
    "# Use the geocoder to get the coordinates and force it to return one location\n",
    "location = geolocator.geocode(search_text, exactly_one=True)\n",
    "\n",
    "# Print the coordinates\n",
    "print(f\"Found: {location}\")"
   ]
  },
  {
   "cell_type": "markdown",
   "metadata": {},
   "source": [
    "The geocoder found the park and filled in the remaining information for us, Tennessee and the United States. Now we can use the location object we created to extract more information about the park's location on a map. Latitude and longitude are geographic coordinates that pinpoint a location on the Earth's surface, with latitude measuring the distance north or south of the equator (ranging from 0° to 90°) and longitude measuring the distance east or west of the prime meridian (ranging from 0° to 180°). \n",
    "\n",
    "Here we get the coordinates in a notation called Decimal Degrees. In this notation:\n",
    "- **Latitude** is a positive number for locations north 🇳 of the Equator and negative for locations south 🇸. \n",
    "- **Longitude** is positive for locations east 🇪 of the Prime Meridian and negative for locations west 🇼. "
   ]
  },
  {
   "cell_type": "code",
   "execution_count": null,
   "metadata": {},
   "outputs": [],
   "source": [
    "print(F\"Steele Creek Park Coordinates\")\n",
    "print(f\"Latitude: {location.latitude}\")\n",
    "print(f\"Longitude: {location.longitude}\")"
   ]
  },
  {
   "cell_type": "markdown",
   "metadata": {},
   "source": [
    "Next we will use **🐼 GeoPandas,** which is a Python library for working with geospatial data. GeoPandas is based on pandas, which is a library used by data scientists for data manipulation and analysis. GeoPandas provides a programmer with data structures and operations for handling geometric objects, coordinate reference systems, and spatial relationships. Most importantly for the purpose of this demonstration, GeoPandas integrates seamlessly with mapping libraries. Here we will create a dataset in computer memory called a GeoDataFrame using the co-ordinates we retreived from the geocoder in the previous step. Then use that data to generate a map of Steele Creek Park."
   ]
  },
  {
   "cell_type": "code",
   "execution_count": null,
   "metadata": {},
   "outputs": [],
   "source": [
    "# Create a GeoDataFrame\n",
    "gdf = gpd.GeoDataFrame(geometry=gpd.points_from_xy([location.longitude], [location.latitude]), crs=\"EPSG:4326\")\n",
    "\n",
    "# examine the GeoDataFrame\n",
    "gdf.explore()\n"
   ]
  },
  {
   "cell_type": "markdown",
   "metadata": {},
   "source": [
    "Now that you know how to use the geocoder and mapping tools in Python, what other places could we look for on a map?\n",
    "\n",
    "We have copied all the neccesary code from above to run in the cell below. Replace the text in between the double quotes beside the search_text variable to search for a place you would like to travel one day!"
   ]
  },
  {
   "cell_type": "code",
   "execution_count": null,
   "metadata": {},
   "outputs": [],
   "source": [
    "search_text = \"La Selva Biological Station\"\n",
    "\n",
    "from geopy.geocoders import Photon\n",
    "import geopandas as gpd\n",
    "\n",
    "geolocator = Photon()\n",
    "location = geolocator.geocode(search_text, exactly_one=True)\n",
    "\n",
    "print(f\"Found: {location}\")\n",
    "print(f\"Latitude: {location.latitude}\")\n",
    "print(f\"Longitude: {location.longitude}\")\n",
    "\n",
    "gdf = gpd.GeoDataFrame(geometry=gpd.points_from_xy([location.longitude], [location.latitude]), crs=\"EPSG:4326\")\n",
    "gdf.explore()"
   ]
  }
 ],
 "metadata": {
  "kernelspec": {
   "display_name": ".venv",
   "language": "python",
   "name": "python3"
  },
  "language_info": {
   "codemirror_mode": {
    "name": "ipython",
    "version": 3
   },
   "file_extension": ".py",
   "mimetype": "text/x-python",
   "name": "python",
   "nbconvert_exporter": "python",
   "pygments_lexer": "ipython3",
   "version": "3.11.13"
  }
 },
 "nbformat": 4,
 "nbformat_minor": 2
}
