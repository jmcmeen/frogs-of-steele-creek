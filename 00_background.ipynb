{
 "cells": [
  {
   "cell_type": "markdown",
   "metadata": {},
   "source": [
    "# Welcome!\n",
    "\n",
    "Welcome to The Frogs of Steele Creek Park Jupyter Notebook. Jupyter Notebooks are open-source web applications that allow users to create and share interactive documents which contain live code, equations, visualizations, and narrative text, making it an ideal tool for data science, scientific computing, and education. Code in this repository highlights on-going projects and research at Steele Creek Park in Bristol, TN.\n",
    "\n",
    "The examples found in this repository highlight STEM topics in biology, ecology, bioacoustics, computer science, and machine learning, but most importantly, frogs! \n",
    "\n",
    "All code has been tested with [Python 3.11.7](https://www.python.org/downloads/release/python-3117/). Other dependencies can be installed using the included requirements.txt file.\n",
    "\n",
    "`pip install -r requirements.txt`\n",
    "\n",
    "Supplmentary audio files are not included and must be downloaded [here](https://drive.google.com/file/d/1k_J5elX7NPuYVBdP8cx7arCurQdkkhiu/view?usp=drive_link). Unzip the contents into the \"data/audio\" directory of this repo. \n",
    "\n",
    "## Contents\n",
    "- [1 - Steele Creek Park](01_steele_creek_park.ipynb)\n",
    "- [2 - Species](02_species.ipynb)\n",
    "- [3 - Bioacoustics](03_bioacoustics.ipynb)\n",
    "- [4 - Machine Learning](04_machine_learning.ipynb)\n",
    "- [5 - Recent Studies](05_00_recent_studies.ipynb)\n",
    "- [6 - Related Work](06_related_work.ipynb)\n",
    "- [7 - Acknowledgements](07_acknowledgements.ipynb)"
   ]
  }
 ],
 "metadata": {
  "kernelspec": {
   "display_name": "Python 3",
   "language": "python",
   "name": "python3"
  },
  "language_info": {
   "codemirror_mode": {
    "name": "ipython",
    "version": 3
   },
   "file_extension": ".py",
   "mimetype": "text/x-python",
   "name": "python",
   "nbconvert_exporter": "python",
   "pygments_lexer": "ipython3",
   "version": "3.11.7"
  }
 },
 "nbformat": 4,
 "nbformat_minor": 2
}
