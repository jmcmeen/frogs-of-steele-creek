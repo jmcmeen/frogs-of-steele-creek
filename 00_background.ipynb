{
 "cells": [
  {
   "cell_type": "markdown",
   "metadata": {},
   "source": [
    "# Background\n",
    "\n",
    "Welcome to The Frogs of Steele Creek Park Jupyter Notebook. Jupyter Notebooks are open-source web applications that allow users to create and share interactive documents which contain live code, equations, visualizations, and narrative text, making it an ideal tool for data science, scientific computing, and education. Code in this repository highlights on-going projects and research at Steele Creek Park in Bristol, TN.\n",
    "\n",
    "The examples found in this repository highlight STEM topics in biology, ecology, bioacoustics, computer science, and machine learning, but most importantly, frogs! \n",
    "\n",
    "All code has been tested with [Python 3.11.7](https://www.python.org/downloads/release/python-3117/). Other dependencies can be installed using the following code block. You can also find more information on Python and the other libraries used below. \n",
    "\n",
    "## Contents\n",
    "- [1 - Steele Creek Park](01_steele_creek_park.ipynb)\n",
    "- [2 - Species](02_species.ipynb)\n",
    "- [3 - Bioacoustics](03_bioacoustics.ipynb)\n",
    "- [4 - Machine Learning](04_machine_learning.ipynb)\n",
    "- [5 - Recent Studies](05_00_recent_studies.ipynb)\n",
    "- [6 - Get Involved](06_get_involved.ipynb)\n",
    "- [7 - Acknowledgements](07_acknowledgements.ipynb)"
   ]
  },
  {
   "cell_type": "code",
   "execution_count": null,
   "metadata": {},
   "outputs": [],
   "source": [
    "%pip install pandas\n",
    "%pip install geopandas\n",
    "%pip install geopy\n",
    "%pip install tensorflow\n",
    "%pip install opensoundscape\n",
    "%pip install folium\n",
    "%pip install mapclassify"
   ]
  },
  {
   "cell_type": "markdown",
   "metadata": {},
   "source": [
    "Pandas is a powerful and popular open-source library in Python for data manipulation and analysis. It provides data structures and functions to efficiently handle and process large datasets, making it an essential tool for data scientists and analysts. With pandas, you can easily import, clean, transform, and analyze data from various sources, including CSV, Excel, and SQL databases. Its core data structures, Series (1-dimensional labeled array) and DataFrame (2-dimensional labeled data structure with columns of potentially different types), provide a flexible and intuitive way to work with data. Pandas also includes various functions for data merging, grouping, sorting, and filtering, as well as integration with other popular Python data science libraries, such as NumPy and Matplotlib, making it a go-to library for data analysis and visualization in Python.\n",
    "\n",
    "Geopandas is an open-source library that allows you to easily work with geospatial data in the popular Python data analysis library Pandas. It allows you to easily merge, join, and manipulate geospatial data with other data types, making it a powerful tool for geospatial data analysis and visualization. Geopandas extends the capabilities of Pandas by adding geospatial indexing and spatial operations, allowing you to perform operations such as spatial joins, spatial buffers, and spatial overlays. This enables you to analyze and visualize complex geospatial data sets, such as boundaries, shapes, and locations, and integrate them with other data sources.\n",
    "\n",
    "Geopy is an open-source Python library that allows you to easily interact with geospatial data and services. It provides a simple and consistent interface to access geospatial data from various sources, including OpenStreetMap, Google Maps, and more. Geopy allows you to perform tasks such as geocoding (converting addresses to coordinates), reverse geocoding (converting coordinates to addresses), and retrieving geospatial data from online services. It also provides tools for calculating distances and directions between locations, making it a powerful tool for geospatial data processing and analysis.\n",
    "\n",
    "TensorFlow is an open-source software library for numerical computation, particularly well-suited and fine-tuned for large-scale Machine Learning (ML) and Deep Learning (DL) tasks. It is primarily used for building and training artificial neural networks, particularly deep neural networks. TensorFlow allows developers to easily implement and train neural networks, and it is particularly well-suited for large-scale Machine Learning tasks.\n",
    "\n",
    "OpenSoundscape is an open-source software framework for the analysis and processing of audio recordings in the context of acoustic ecology and soundscape ecology. It provides a set of tools and algorithms for the analysis and classification of sounds in audio recordings, allowing researchers to quantify and characterize the acoustic environment. OpenSoundscape enables the extraction of acoustic features, such as sound intensity, frequency, and duration, as well as the detection of specific sounds, such as bird calls or vehicle noise. This allows researchers to build software to study the impact of human activities on the environment, monitor changes in ecosystems, and better understand the complex relationships between sound and the natural world."
   ]
  }
 ],
 "metadata": {
  "kernelspec": {
   "display_name": "Python 3",
   "language": "python",
   "name": "python3"
  },
  "language_info": {
   "codemirror_mode": {
    "name": "ipython",
    "version": 3
   },
   "file_extension": ".py",
   "mimetype": "text/x-python",
   "name": "python",
   "nbconvert_exporter": "python",
   "pygments_lexer": "ipython3",
   "version": "3.11.7"
  }
 },
 "nbformat": 4,
 "nbformat_minor": 2
}
