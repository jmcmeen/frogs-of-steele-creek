{
 "cells": [
  {
   "cell_type": "markdown",
   "metadata": {},
   "source": [
    "# Machine Learning\n",
    "\n",
    "Machine learning is a subset of artificial intelligence that enables computers to learn from data without being explicitly programmed. It involves training algorithms on large datasets to recognize patterns, make predictions, and improve their performance over time. Machine learning models can be trained on various types of data, such as images, text, or audio, and can be applied to a wide range of applications, including natural language processing, computer vision, and predictive analytics. Through machine learning, computers can learn to identify objects in images, understand human language, and make predictions about future events, all without being explicitly programmed to do so."
   ]
  },
  {
   "cell_type": "markdown",
   "metadata": {},
   "source": [
    "## Setup"
   ]
  },
  {
   "cell_type": "code",
   "execution_count": 1,
   "metadata": {},
   "outputs": [
    {
     "name": "stderr",
     "output_type": "stream",
     "text": [
      "/home/john/Desktop/frogs-of-steele-creek/.venv/lib/python3.11/site-packages/opensoundscape/ml/cnn.py:19: TqdmExperimentalWarning: Using `tqdm.autonotebook.tqdm` in notebook mode. Use `tqdm.tqdm` instead to force console mode (e.g. in jupyter console)\n",
      "  from tqdm.autonotebook import tqdm\n"
     ]
    }
   ],
   "source": [
    "from opensoundscape.spectrogram import Spectrogram\n",
    "from opensoundscape import Audio\n",
    "from pathlib import Path\n",
    "import os\n",
    "import glob\n",
    "\n",
    "src_data_dir = 'data/audio/training_sets/small'\n",
    "test_data_dir = 'data/audio/training_sets/test_data'\n",
    "train_data_dir = 'data/audio/training_sets/train_data'\n",
    "\n",
    "# bandpass filters\n",
    "high_cut = 8000\n",
    "low_cut = 300\n",
    "\n",
    "# sounds\n",
    "clip_seconds = 1\n",
    "overlap_seconds = .1\n",
    "freq = 44100\n",
    "\n",
    "image_shape = (200, 200)\n"
   ]
  },
  {
   "cell_type": "markdown",
   "metadata": {},
   "source": [
    "# Datasets\n",
    "For this portion, you may either use the training set included in the supplementary audio files, or generate a dataset from iNaturalist. "
   ]
  },
  {
   "cell_type": "code",
   "execution_count": 2,
   "metadata": {},
   "outputs": [
    {
     "name": "stdout",
     "output_type": "stream",
     "text": [
      "Collecting wav audio observations for Lithobates clamitans (Green Frog)\n",
      "Collecting wav audio observations for Lithobates palustris (Pickerel Frog)\n",
      "Collecting wav audio observations for Lithobates sylvaticus (Wood Frog)\n",
      "Collecting wav audio observations for Anaxyrus americanus (American Toad)\n",
      "Collecting wav audio observations for Pseudacris feriarum (Upland Chorus Frog)\n",
      "Collecting wav audio observations for Hyla chrysoscelis (Cope's Gray Treefrog)\n",
      "Collecting wav audio observations for Pseudacris crucifer (Spring Peeper)\n",
      "Collecting wav audio observations for Lithobates catesbeianus (American Bullfrog)\n"
     ]
    }
   ],
   "source": [
    "inaturalist_data = True\n",
    "\n",
    "# get data from iNaturalist\n",
    "if inaturalist_data:\n",
    "    from pyinaturalist import get_observation_species_counts, TaxonCount, pprint, get_observations\n",
    "    import json\n",
    "    import urllib.request\n",
    "    import re\n",
    "    from novus_pytils.files import (create_directory, directory_exists, delete_directory)\n",
    "\n",
    "    def safe_serialize(obj):\n",
    "        default = lambda o: f\"<<non-serializable: {type(o).__qualname__}>>\"\n",
    "        return json.dumps(obj, default=default)\n",
    "\n",
    "    src_data_dir = 'data/audio/training_sets/inat/'\n",
    "    \n",
    "    delete_directory(src_data_dir)\n",
    "    create_directory(src_data_dir)\n",
    "\n",
    "    # define the place_id and taxon_id of interest from iNaturalist\n",
    "    scp_place_id = 130630\n",
    "    frog_taxon_id = 20979\n",
    "\n",
    "    # get the observation species counts for frogs at Steele Creek Park\n",
    "    response = get_observation_species_counts(place_id= scp_place_id, taxon_id=frog_taxon_id)\n",
    "\n",
    "    # response comes in as a list of dictionaries in JSON format, Taxon count will help us parse it\n",
    "    taxa = TaxonCount.from_json_list(response['results'][:])\n",
    "\n",
    "    # loop through json results\n",
    "    for taxon in taxa:\n",
    "        obs = get_observations(taxon_id=taxon.id, sounds=True, per_page=200)\n",
    "        print(f\"Collecting wav audio observations for {taxon.full_name}\")\n",
    "\n",
    "        for ob in obs['results']:\n",
    "            for o in ob['sounds']:\n",
    "                file_ext = o['file_content_type'].split(\"/\")[1]\n",
    "\n",
    "                if o['file_content_type'] != 'audio/x-wav':\n",
    "                    continue\n",
    "                \n",
    "                file_ext =\"wav\"\n",
    "\n",
    "                #print(o)\n",
    "                try:\n",
    "                    taxon_name = re.sub(\"[\\W_]+\", \"\", ob['taxon']['preferred_common_name'])\n",
    "\n",
    "                    dir = f\"{src_data_dir}{taxon_name}/\"\n",
    "\n",
    "                    if not directory_exists(dir):\n",
    "                        create_directory(dir)\n",
    "                    urllib.request.urlretrieve(f\"{o['file_url']}\", f\"{dir}{ob['sounds'][0]['id']}.{file_ext}\")\n",
    "                except:\n",
    "                    pass\n",
    "\n",
    "classes = list()\n",
    "for path in Path(src_data_dir).iterdir():\n",
    "    if path.is_dir():\n",
    "        classes.append(path.name)\n",
    "\n",
    "num_classes = len(classes)\n"
   ]
  },
  {
   "cell_type": "markdown",
   "metadata": {},
   "source": [
    "## Data Processing / Spectrogram Creation"
   ]
  },
  {
   "cell_type": "code",
   "execution_count": 3,
   "metadata": {},
   "outputs": [
    {
     "name": "stderr",
     "output_type": "stream",
     "text": [
      "/home/john/Desktop/frogs-of-steele-creek/.venv/lib/python3.11/site-packages/opensoundscape/audio.py:928: UserWarning: Given Audio object with duration of `0.6012925170068028` seconds and `clip_duration=1` but  `final_clip=None` produces no clips. Returning empty list.\n",
      "  warnings.warn(\n"
     ]
    }
   ],
   "source": [
    "# ETL process for creating spectrogram images from .wav files\n",
    "\n",
    "from novus_pytils.files import (create_directory, directory_exists, delete_directory)\n",
    "\n",
    "# delete existing training directories\n",
    "for species in classes:\n",
    "    if directory_exists(os.path.join(train_data_dir, species)):\n",
    "        delete_directory(os.path.join(train_data_dir, species))\n",
    "\n",
    "    # make directories for each species\n",
    "    create_directory(os.path.join(train_data_dir, species))\n",
    "\n",
    "    for wav in [file for file in glob.glob(os.path.join(src_data_dir, species, \"*.wav\"))]:\n",
    "        audio_object = Audio.from_file(wav)\n",
    "        audio_object = audio_object.resample(freq)\n",
    "        audio_object = audio_object.bandpass(low_f=low_cut, high_f=high_cut, order= 12)\n",
    "        \n",
    "        clips, clip_df = audio_object.split(clip_duration=clip_seconds, clip_overlap=overlap_seconds, final_clip=None)\n",
    "        spectrogram_objects = [Spectrogram.from_audio(audio_object, window_samples=400).bandpass(min_f=low_cut, max_f=high_cut) for audio_object in clips]\n",
    "\n",
    "        count = 0\n",
    "        for spectrogram_object in spectrogram_objects:\n",
    "            spectrogram_image = spectrogram_object.to_image(shape=image_shape)\n",
    "            spectrogram_image.save(os.path.join(train_data_dir,species, count.__str__() + \".png\"))\n",
    "            count += 1"
   ]
  }
 ],
 "metadata": {
  "kernelspec": {
   "display_name": ".venv",
   "language": "python",
   "name": "python3"
  },
  "language_info": {
   "codemirror_mode": {
    "name": "ipython",
    "version": 3
   },
   "file_extension": ".py",
   "mimetype": "text/x-python",
   "name": "python",
   "nbconvert_exporter": "python",
   "pygments_lexer": "ipython3",
   "version": "3.11.10"
  }
 },
 "nbformat": 4,
 "nbformat_minor": 2
}
