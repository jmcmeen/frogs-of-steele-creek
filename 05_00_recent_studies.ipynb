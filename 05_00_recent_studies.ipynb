{
 "cells": [
  {
   "cell_type": "markdown",
   "metadata": {},
   "source": [
    "# Research Overview\n",
    "\n",
    "Steele Creek Park has been the host of numerous scientific studies, from academic projects to published research. This section has been broken into several notebooks to highlight the work of each project affiliated with the park and authors of this GitHub.\n",
    "\n",
    "## Projects\n",
    "- [Herpetofauna of Steele Creek Park](05_01_herps_scp.ipynb)\n",
    "- [Steele Creek Park Frog Bioacoustics Survey](05_02_frog_bioacoustics_scp.ipynb)\n",
    "- [The Species-Area Relationship of Amphibians in the Southern Appalachians](05_03_sar_amphibians.ipynb)"
   ]
  }
 ],
 "metadata": {
  "kernelspec": {
   "display_name": ".venv",
   "language": "python",
   "name": "python3"
  },
  "language_info": {
   "name": "python",
   "version": "3.11.7"
  }
 },
 "nbformat": 4,
 "nbformat_minor": 2
}
