{
 "cells": [
  {
   "cell_type": "markdown",
   "metadata": {},
   "source": [
    "## Appalachia Bioacoustics\n",
    "\n",
    "https://www.inaturalist.org/projects/appalachian-bioacoustics\n",
    "\n",
    "## Costa Rica Bioacoustics\n",
    "\n",
    "https://www.inaturalist.org/projects/costa-rica-bioacoustics\n",
    "\n",
    "## BioAcoustics For Machine Learning Applications (BioAMLA)\n",
    "\n",
    "https://github.com/jmcmeen/bioamla"
   ]
  },
  {
   "cell_type": "code",
   "execution_count": null,
   "metadata": {},
   "outputs": [],
   "source": []
  }
 ],
 "metadata": {
  "language_info": {
   "name": "python"
  }
 },
 "nbformat": 4,
 "nbformat_minor": 2
}
